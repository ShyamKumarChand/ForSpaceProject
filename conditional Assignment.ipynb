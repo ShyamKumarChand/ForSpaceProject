{
 "cells": [
  {
   "cell_type": "code",
   "execution_count": 12,
   "metadata": {},
   "outputs": [
    {
     "name": "stdout",
     "output_type": "stream",
     "text": [
      "m= 50\n"
     ]
    }
   ],
   "source": [
    "if a>b:\n",
    "   m=b\n",
    "elif b>a:\n",
    "   m=a\n",
    "else:\n",
    "   print(\"both are equal\")\n",
    "print('m=',m)"
   ]
  },
  {
   "cell_type": "code",
   "execution_count": 10,
   "metadata": {},
   "outputs": [
    {
     "name": "stdout",
     "output_type": "stream",
     "text": [
      "Album rateing is amazing\n",
      "Album rateing is not amazing\n"
     ]
    }
   ],
   "source": [
    "album_rateing = 8\n",
    "if album_rateing > 8:\n",
    "    print(\"Back in Black rateing is\",8.5)\n",
    "else:\n",
    "    print('Album rateing is amazing')\n",
    "\n",
    "print('Album rateing is not amazing')"
   ]
  },
  {
   "cell_type": "code",
   "execution_count": 12,
   "metadata": {},
   "outputs": [
    {
     "name": "stdout",
     "output_type": "stream",
     "text": [
      "Album rateing is ok\n",
      "Album is not ok\n"
     ]
    }
   ],
   "source": [
    "album_rateing = 8\n",
    "if album_rateing > 8:\n",
    "    print(\"Back in Black rateing is\",8.5)\n",
    "elif album_rateing <= 8:\n",
    "    print('Album rateing is ok')\n",
    "    \n",
    "print('Album is not ok')"
   ]
  },
  {
   "cell_type": "code",
   "execution_count": 16,
   "metadata": {},
   "outputs": [
    {
     "name": "stdout",
     "output_type": "stream",
     "text": [
      "Album came out\n"
     ]
    }
   ],
   "source": [
    "album_year = 1979\n",
    "\n",
    "if (album_year < 1991) and (album_year < 1993):\n",
    "    print (\"Album came out\")\n"
   ]
  },
  {
   "cell_type": "code",
   "execution_count": 37,
   "metadata": {},
   "outputs": [
    {
     "name": "stdin",
     "output_type": "stream",
     "text": [
      "enter the length 6\n",
      "enter the breadth 6\n"
     ]
    },
    {
     "name": "stdout",
     "output_type": "stream",
     "text": [
      "It is a square\n"
     ]
    }
   ],
   "source": [
    "length = int(input(\"enter the length\"))\n",
    "breadth = int(input(\"enter the breadth\"))\n",
    "if length == breadth:\n",
    "                     print(\"It is a square\")\n",
    "elif length > breadth:\n",
    "                       print(\"It is a rectangle\")\n",
    "else:  \n",
    "        print(\"it is not a rectangle\")"
   ]
  },
  {
   "cell_type": "code",
   "execution_count": 38,
   "metadata": {},
   "outputs": [
    {
     "name": "stdin",
     "output_type": "stream",
     "text": [
      "enter the first number 8\n",
      "enter the Second number 8\n"
     ]
    },
    {
     "name": "stdout",
     "output_type": "stream",
     "text": [
      "Both are equal\n"
     ]
    }
   ],
   "source": [
    "a = int(input(\"enter the first number\"))\n",
    "b = int(input(\"enter the Second number\"))\n",
    "if a > b:\n",
    "    print(\"first\")\n",
    "elif b > a:\n",
    "    print(\"second\")\n",
    "else:\n",
    "      print(\"Both are equal\")"
   ]
  },
  {
   "cell_type": "code",
   "execution_count": 44,
   "metadata": {},
   "outputs": [
    {
     "name": "stdin",
     "output_type": "stream",
     "text": [
      "Enetr the marks 23\n"
     ]
    },
    {
     "name": "stdout",
     "output_type": "stream",
     "text": [
      "F\n"
     ]
    }
   ],
   "source": [
    "Marks = int(input(\"Enetr the marks\"))\n",
    "if Marks < 25:\n",
    "    print(\"F\")\n",
    "elif Marks >=25 and Marks < 45:\n",
    "     print(\"E\")\n",
    "elif Marks >=45 and Marks < 50:\n",
    "     print(\"D\")\n",
    "elif Marks >= 50 and Marks < 60:\n",
    "     print(\"C\")\n",
    "elif Marks >= 60 and Marks < 80:\n",
    "     print(\"B\")\n",
    "else:\n",
    "     print(\"F\")"
   ]
  },
  {
   "cell_type": "code",
   "execution_count": 45,
   "metadata": {},
   "outputs": [
    {
     "name": "stdin",
     "output_type": "stream",
     "text": [
      "Enter the first age 70\n",
      "Enter the second age 60\n",
      "Enter the third age 50\n"
     ]
    },
    {
     "name": "stdout",
     "output_type": "stream",
     "text": [
      "Oldest is 70\n"
     ]
    }
   ],
   "source": [
    "first = int(input(\"Enter the first age\"))\n",
    "sec = int(input(\"Enter the second age\"))\n",
    "third = int(input(\"Enter the third age\"))\n",
    "if first >= sec and first >= third:\n",
    "    print(\"Oldest is\", first)\n",
    "elif sec >= first and sec >= third:\n",
    "     print(\"Oldest is\", sec)\n",
    "elif third >= first and third >= sec:\n",
    "     print(\"oldest is third\")\n",
    "else:\n",
    "     print(\"all are equal\")"
   ]
  },
  {
   "cell_type": "code",
   "execution_count": 47,
   "metadata": {},
   "outputs": [
    {
     "name": "stdin",
     "output_type": "stream",
     "text": [
      "number =  -1\n"
     ]
    },
    {
     "name": "stdout",
     "output_type": "stream",
     "text": [
      "1\n"
     ]
    }
   ],
   "source": [
    "num = int(input(\"number = \"))\n",
    "if num < 0:\n",
    "    print(-num)\n",
    "else:\n",
    "    print(num)"
   ]
  },
  {
   "cell_type": "code",
   "execution_count": 20,
   "metadata": {},
   "outputs": [
    {
     "name": "stdin",
     "output_type": "stream",
     "text": [
      "number of classes held 200\n",
      "number of classes attended 178\n"
     ]
    },
    {
     "name": "stdout",
     "output_type": "stream",
     "text": [
      "Eligible\n"
     ]
    }
   ],
   "source": [
    "std1 = int(input(\"number of classes held\"))\n",
    "std2 = int(input(\"number of classes attended\"))\n",
    "pf = (std2/std1)*100\n",
    "if pf >= 75:\n",
    "    print(\"Eligible\")\n",
    "else:\n",
    "     print(\"not eligible\")"
   ]
  },
  {
   "cell_type": "code",
   "execution_count": 6,
   "metadata": {},
   "outputs": [
    {
     "name": "stdin",
     "output_type": "stream",
     "text": [
      "number of classes held 360\n",
      "number of classes attended 250\n",
      "Y y\n"
     ]
    }
   ],
   "source": [
    "std1 = int(input(\"number of classes held\"))\n",
    "std2 = int(input(\"number of classes attended\"))\n",
    "medical_case = input(\"Y\")\n",
    "pf = (std2/std1)*100\n",
    "if medical_case == \"Y\":\n",
    "     print(\"Eligible\")\n",
    "if pf >= 75:\n",
    "    print(\"Eligible\")"
   ]
  },
  {
   "cell_type": "code",
   "execution_count": 10,
   "metadata": {},
   "outputs": [
    {
     "name": "stdout",
     "output_type": "stream",
     "text": [
      "2000 is a leap year\n"
     ]
    }
   ],
   "source": [
    "year = 2000\n",
    "if (year % 4) == 0:\n",
    "   if (year % 100) == 0:\n",
    "       if (year % 400) == 0:\n",
    "           print(\"{0} is a leap year\".format(year))\n",
    "       else:\n",
    "           print(\"{0} is not a leap year\".format(year))\n",
    "   else:\n",
    "       print(\"{0} is a leap year\".format(year))\n",
    "else:\n",
    "   print(\"{0} is not a leap year\".format(year))"
   ]
  },
  {
   "cell_type": "code",
   "execution_count": 5,
   "metadata": {},
   "outputs": [
    {
     "name": "stdout",
     "output_type": "stream",
     "text": [
      "1900 is not a leap year\n"
     ]
    }
   ],
   "source": [
    "year = 1900\n",
    "if (year % 4) == 0:\n",
    "   if (year % 100) == 0:\n",
    "       if (year % 400) == 0:\n",
    "           print(\"{0} is a leap year\".format(year))\n",
    "       else:\n",
    "           print(\"{0} is not a leap year\".format(year))\n",
    "   else:\n",
    "       print(\"{0} is a leap year\".format(year))\n",
    "else:\n",
    "   print(\"{0} is not a leap year\".format(year))"
   ]
  },
  {
   "cell_type": "code",
   "execution_count": null,
   "metadata": {},
   "outputs": [],
   "source": [
    "year = 2100\n",
    "if (year % 4) == 0:\n",
    "   if (year % 100) == 0:\n",
    "       if (year % 400) == 0:\n",
    "           print(\"{0} is a leap year\".format(year))\n",
    "       else:\n",
    "           print(\"{0} is not a leap year\".format(year))\n",
    "   else:\n",
    "       print(\"{0} is a leap year\".format(year))\n",
    "else:\n",
    "   print(\"{0} is not a leap year\".format(year))"
   ]
  },
  {
   "cell_type": "code",
   "execution_count": 9,
   "metadata": {},
   "outputs": [
    {
     "ename": "SyntaxError",
     "evalue": "invalid syntax (<ipython-input-9-36c6ccbe1c1d>, line 1)",
     "output_type": "error",
     "traceback": [
      "\u001b[1;36m  File \u001b[1;32m\"<ipython-input-9-36c6ccbe1c1d>\"\u001b[1;36m, line \u001b[1;32m1\u001b[0m\n\u001b[1;33m    Male = input(\"Enter the age\"))\u001b[0m\n\u001b[1;37m                                 ^\u001b[0m\n\u001b[1;31mSyntaxError\u001b[0m\u001b[1;31m:\u001b[0m invalid syntax\n"
     ]
    }
   ],
   "source": [
    "Male = input(\"Enter the age\"))\n",
    "Female = input(\"Enter the age\"))\n",
    "Marital_status = (input(\"M\"))\n",
    "if sex == female:\n",
    "    print(\"You will work in urban areas\")\n",
    "elif sex == male\n",
    "     if (age >= 20) && (age < 40) :\n",
    "         print(\"you may work any where\")\n",
    "elif (age >= 40) && (age < 60):\n",
    "      print(\"you will work only in urban areas\")\n",
    "else:\n",
    "     print(\"ERROR\")\n",
    "    "
   ]
  },
  {
   "cell_type": "code",
   "execution_count": 14,
   "metadata": {},
   "outputs": [
    {
     "name": "stdin",
     "output_type": "stream",
     "text": [
      "Please Enter any Number:  1234\n"
     ]
    },
    {
     "name": "stdout",
     "output_type": "stream",
     "text": [
      "\n",
      " Reverse of entered number is = 4321\n"
     ]
    }
   ],
   "source": [
    "Number = int(input(\"Please Enter any Number: \"))\n",
    "Reverse = 0\n",
    "while(Number > 0):\n",
    "    Reminder = Number %10\n",
    "    Reverse = (Reverse *10) + Reminder\n",
    "    Number = Number //10\n",
    "\n",
    "print(\"\\n Reverse of entered number is = %d\" %Reverse)"
   ]
  },
  {
   "cell_type": "code",
   "execution_count": 39,
   "metadata": {},
   "outputs": [
    {
     "name": "stdin",
     "output_type": "stream",
     "text": [
      "Enter a quantity 10005\n"
     ]
    },
    {
     "name": "stdout",
     "output_type": "stream",
     "text": [
      "cost is 900450.0\n"
     ]
    }
   ],
   "source": [
    "Q = int(input(\"Enter a quantity\"))\n",
    "if Q*100 > 1000:\n",
    "    print(\"cost is\",Q*100 -(.1*Q*100))\n",
    "else:\n",
    "     print(\"Cost is \", Q*100)"
   ]
  },
  {
   "cell_type": "code",
   "execution_count": 40,
   "metadata": {},
   "outputs": [
    {
     "name": "stdin",
     "output_type": "stream",
     "text": [
      "Enter the salary 100\n",
      "Enter the year of service 5\n"
     ]
    },
    {
     "name": "stdout",
     "output_type": "stream",
     "text": [
      "No Bonus\n"
     ]
    }
   ],
   "source": [
    "sal = int(input(\"Enter the salary\"))\n",
    "yos = int(input(\"Enter the year of service\"))\n",
    "if yos > 5:\n",
    "    print(\"Bonus is\", .05*sal)\n",
    "else:\n",
    "      print(\"No Bonus\")"
   ]
  },
  {
   "cell_type": "code",
   "execution_count": 11,
   "metadata": {},
   "outputs": [
    {
     "name": "stdin",
     "output_type": "stream",
     "text": [
      "Enter the year 2000\n"
     ]
    },
    {
     "name": "stdout",
     "output_type": "stream",
     "text": [
      "It is a Leap year 2000\n"
     ]
    }
   ],
   "source": [
    "a=int(input(\"Enter the year\"))\n",
    "\n",
    "if a%4==0:\n",
    "   print(\"It is a Leap year\",a)\n",
    "else:\n",
    "   print(\"It is not a leap year\",a)\n"
   ]
  },
  {
   "cell_type": "code",
   "execution_count": null,
   "metadata": {},
   "outputs": [],
   "source": []
  }
 ],
 "metadata": {
  "kernelspec": {
   "display_name": "Python 3",
   "language": "python",
   "name": "python3"
  },
  "language_info": {
   "codemirror_mode": {
    "name": "ipython",
    "version": 3
   },
   "file_extension": ".py",
   "mimetype": "text/x-python",
   "name": "python",
   "nbconvert_exporter": "python",
   "pygments_lexer": "ipython3",
   "version": "3.6.8"
  }
 },
 "nbformat": 4,
 "nbformat_minor": 4
}
