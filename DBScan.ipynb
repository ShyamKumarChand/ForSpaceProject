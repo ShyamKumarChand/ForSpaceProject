{
 "cells": [
  {
   "cell_type": "code",
   "execution_count": 1,
   "metadata": {},
   "outputs": [],
   "source": [
    "import numpy as np\n",
    "from mpl_toolkits.basemap import Basemap\n",
    "import matplotlib.pyplot as plt\n",
    "from pylab import rcParams\n",
    "%matplotlib inline"
   ]
  },
  {
   "cell_type": "code",
   "execution_count": 2,
   "metadata": {},
   "outputs": [],
   "source": [
    "import pandas as pd\n",
    "from itertools import groupby\n",
    "import matplotlib.cm\n",
    "from matplotlib.patches import Polygon\n",
    "from matplotlib.collections import PatchCollection\n",
    "from matplotlib.colors import Normalize"
   ]
  },
  {
   "cell_type": "code",
   "execution_count": 3,
   "metadata": {},
   "outputs": [
    {
     "data": {
      "text/html": [
       "<div>\n",
       "<style scoped>\n",
       "    .dataframe tbody tr th:only-of-type {\n",
       "        vertical-align: middle;\n",
       "    }\n",
       "\n",
       "    .dataframe tbody tr th {\n",
       "        vertical-align: top;\n",
       "    }\n",
       "\n",
       "    .dataframe thead th {\n",
       "        text-align: right;\n",
       "    }\n",
       "</style>\n",
       "<table border=\"1\" class=\"dataframe\">\n",
       "  <thead>\n",
       "    <tr style=\"text-align: right;\">\n",
       "      <th></th>\n",
       "      <th>S.No</th>\n",
       "      <th>State Name</th>\n",
       "      <th>Population</th>\n",
       "      <th>Aadhar Assigned</th>\n",
       "      <th>Saturation</th>\n",
       "    </tr>\n",
       "  </thead>\n",
       "  <tbody>\n",
       "    <tr>\n",
       "      <th>0</th>\n",
       "      <td>1</td>\n",
       "      <td>Delhi</td>\n",
       "      <td>18345784</td>\n",
       "      <td>21771316</td>\n",
       "      <td>118.7</td>\n",
       "    </tr>\n",
       "    <tr>\n",
       "      <th>1</th>\n",
       "      <td>2</td>\n",
       "      <td>Haryana</td>\n",
       "      <td>27388008</td>\n",
       "      <td>28416816</td>\n",
       "      <td>103.8</td>\n",
       "    </tr>\n",
       "    <tr>\n",
       "      <th>2</th>\n",
       "      <td>3</td>\n",
       "      <td>Himachal Pradesh</td>\n",
       "      <td>7316708</td>\n",
       "      <td>7494254</td>\n",
       "      <td>102.4</td>\n",
       "    </tr>\n",
       "    <tr>\n",
       "      <th>3</th>\n",
       "      <td>4</td>\n",
       "      <td>Goa</td>\n",
       "      <td>1542750</td>\n",
       "      <td>1578797</td>\n",
       "      <td>102.3</td>\n",
       "    </tr>\n",
       "    <tr>\n",
       "      <th>4</th>\n",
       "      <td>5</td>\n",
       "      <td>Kerala</td>\n",
       "      <td>35330888</td>\n",
       "      <td>36088627</td>\n",
       "      <td>102.1</td>\n",
       "    </tr>\n",
       "  </tbody>\n",
       "</table>\n",
       "</div>"
      ],
      "text/plain": [
       "   S.No        State Name  Population  Aadhar Assigned  Saturation\n",
       "0     1             Delhi    18345784         21771316       118.7\n",
       "1     2           Haryana    27388008         28416816       103.8\n",
       "2     3  Himachal Pradesh     7316708          7494254       102.4\n",
       "3     4               Goa     1542750          1578797       102.3\n",
       "4     5            Kerala    35330888         36088627       102.1"
      ]
     },
     "execution_count": 3,
     "metadata": {},
     "output_type": "execute_result"
    }
   ],
   "source": [
    "data = pd.read_csv('https://raw.githubusercontent.com/reddyprasade/Machine-Learning-Problems-DataSets/master/Clustering/aadhar_data_set/aadhar_saturation.csv')\n",
    "data.head()"
   ]
  },
  {
   "cell_type": "code",
   "execution_count": 4,
   "metadata": {},
   "outputs": [],
   "source": [
    "state_group = data.groupby(by='State Name')"
   ]
  },
  {
   "cell_type": "code",
   "execution_count": 5,
   "metadata": {},
   "outputs": [],
   "source": [
    "sat_list = []"
   ]
  },
  {
   "cell_type": "code",
   "execution_count": 6,
   "metadata": {},
   "outputs": [
    {
     "name": "stdout",
     "output_type": "stream",
     "text": [
      "[('Andaman and Nicobar Islands', 94.1), ('Andhra Pradesh', 92.3), ('Arunachal Pradesh', 79.9), ('Assam', 10.9), ('Bihar', 84.4), ('Chandigarh', 101.6), ('Chhattisgarh', 94.0), ('Dadra and Nagar Haveli', 99.0), ('Daman and Diu', 96.8), ('Delhi', 118.7), ('Goa', 102.3), ('Gujarat', 95.9), ('Haryana', 103.8), ('Himachal Pradesh', 102.4), ('Jammu and Kashmir', 75.6), ('Jharkhand', 92.8), ('Karnataka', 92.8), ('Kerala', 102.1), ('Lakshadweep', 98.0), ('Madhya Pradesh', 90.3), ('Maharashtra', 93.4), ('Manipur', 81.7), ('Meghalaya', 28.1), ('Mizoram', 88.3), ('Nagaland', 57.5), ('Orissa', 93.3), ('Puducherry', 94.2), ('Punjab', 102.1), ('Rajasthan', 87.0), ('Sikkim', 87.7), ('Tamil Nadu', 93.5), ('Telangana', 100.9), ('Tripura', 89.9), ('Uttar Pradesh', 87.9), ('Uttaranchal', 98.9), ('West Bengal', 93.8)]\n"
     ]
    }
   ],
   "source": [
    "for key, group in state_group:\n",
    "    sat = 0\n",
    "    for row in group.iterrows():\n",
    "        sat += row[1][4]\n",
    "    sat_list.append((key,sat))\n",
    "print(sat_list)"
   ]
  },
  {
   "cell_type": "code",
   "execution_count": 7,
   "metadata": {},
   "outputs": [
    {
     "data": {
      "text/plain": [
       "(35,\n",
       " 5,\n",
       " [68.120198, 6.754256, 0.0, 0.0],\n",
       " [97.415161, 37.135643, 0.0, 0.0],\n",
       " <matplotlib.collections.LineCollection at 0x17b2ecede10>)"
      ]
     },
     "execution_count": 7,
     "metadata": {},
     "output_type": "execute_result"
    },
    {
     "data": {
      "image/png": "[encoded data removed]",
      "text/plain": [
       "<Figure size 432x288 with 1 Axes>"
      ]
     },
     "metadata": {},
     "output_type": "display_data"
    }
   ],
   "source": [
    "fig, ax = plt.subplots()\n",
    "\n",
    "m = Basemap(resolution='h',\n",
    "           projection='merc',\n",
    "           lat_0=54.5,\n",
    "           lon_0=4.36,\n",
    "           llcrnrlon=68.,\n",
    "           llcrnrlat=6.,\n",
    "           urcrnrlon=97.,\n",
    "           urcrnrlat=37.)\n",
    "m.drawmapboundary(fill_color='#46bcec')\n",
    "m.fillcontinents(color='green',lake_color='#46bcec')\n",
    "m.drawmapboundary()\n",
    "m.drawcoastlines()\n",
    "m.readshapefile(\"Downloads/India_map/INDIA\",\"INDIA\")"
   ]
  },
  {
   "cell_type": "code",
   "execution_count": 8,
   "metadata": {},
   "outputs": [],
   "source": [
    "satlist = []"
   ]
  },
  {
   "cell_type": "code",
   "execution_count": 9,
   "metadata": {},
   "outputs": [],
   "source": [
    "for state_info in m.INDIA_info:\n",
    "    state = state_info['ST_NAME']\n",
    "    sat1 = 0\n",
    "    \n",
    "    for x in sat_list:\n",
    "        if x[0] == state:\n",
    "            sat1 = x[1]\n",
    "            break\n",
    "    satlist.append(sat1)"
   ]
  },
  {
   "cell_type": "code",
   "execution_count": 10,
   "metadata": {},
   "outputs": [],
   "source": [
    "df_poly = pd.DataFrame({'shapes':[Polygon(np.array(shape), True) for shape in m.INDIA],\n",
    "                       'area':[area['ST_NAME'] for area in m.INDIA_info],\n",
    "                       'satlist': satlist})"
   ]
  },
  {
   "cell_type": "code",
   "execution_count": 11,
   "metadata": {},
   "outputs": [],
   "source": [
    "shapes = [Polygon(np.array(shape), True) for shape in m.INDIA]\n",
    "cmap = plt.get_cmap('Oranges_r')"
   ]
  },
  {
   "cell_type": "code",
   "execution_count": 12,
   "metadata": {},
   "outputs": [
    {
     "data": {
      "image/png": "[encoded data removed]",
      "text/plain": [
       "<Figure size 432x288 with 2 Axes>"
      ]
     },
     "metadata": {
      "needs_background": "light"
     },
     "output_type": "display_data"
    }
   ],
   "source": [
    "\n",
    "\n",
    "pc = PatchCollection(shapes, zorder=2)\n",
    "\n",
    "norm = Normalize()\n",
    "pc.set_facecolor(cmap(norm(df_poly['satlist'].fillna(0).values)))\n",
    "ax.add_collection(pc)\n",
    "    \n",
    "mapper = matplotlib.cm.ScalarMappable(cmap=cmap)\n",
    "mapper.set_array(satlist)\n",
    "plt.colorbar(mapper, shrink=0.4)\n",
    "\n",
    "ax.set_title('Aadhar Saturation')\n",
    "plt.rcParams['figure.figsize'] = [15,15]\n",
    "plt.show()\n"
   ]
  },
  {
   "cell_type": "code",
   "execution_count": null,
   "metadata": {},
   "outputs": [],
   "source": []
  }
 ],
 "metadata": {
  "kernelspec": {
   "display_name": "Python 3",
   "language": "python",
   "name": "python3"
  },
  "language_info": {
   "codemirror_mode": {
    "name": "ipython",
    "version": 3
   },
   "file_extension": ".py",
   "mimetype": "text/x-python",
   "name": "python",
   "nbconvert_exporter": "python",
   "pygments_lexer": "ipython3",
   "version": "3.6.8"
  }
 },
 "nbformat": 4,
 "nbformat_minor": 4
}
