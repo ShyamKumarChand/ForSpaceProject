{
 "cells": [
  {
   "cell_type": "code",
   "execution_count": 1,
   "metadata": {},
   "outputs": [],
   "source": [
    "import numpy as np\n",
    "from sklearn import datasets\n",
    "from sklearn.tree import DecisionTreeClassifier\n",
    "from sklearn.neighbors import KNeighborsClassifier\n",
    "from sklearn.svm import SVC\n",
    "from sklearn.model_selection import train_test_split\n",
    "from sklearn.ensemble import VotingClassifier\n",
    "import statistics as stat"
   ]
  },
  {
   "cell_type": "code",
   "execution_count": 2,
   "metadata": {},
   "outputs": [
    {
     "data": {
      "text/plain": [
       "['sepal length (cm)',\n",
       " 'sepal width (cm)',\n",
       " 'petal length (cm)',\n",
       " 'petal width (cm)']"
      ]
     },
     "execution_count": 2,
     "metadata": {},
     "output_type": "execute_result"
    }
   ],
   "source": [
    "iris = datasets.load_iris()\n",
    "iris.feature_names"
   ]
  },
  {
   "cell_type": "code",
   "execution_count": 3,
   "metadata": {},
   "outputs": [],
   "source": [
    "X = iris.data[:,[0,2]]\n",
    "y = iris.target"
   ]
  },
  {
   "cell_type": "code",
   "execution_count": 4,
   "metadata": {},
   "outputs": [
    {
     "name": "stdout",
     "output_type": "stream",
     "text": [
      "(150, 2)\n",
      "(150,)\n"
     ]
    }
   ],
   "source": [
    "print(X.shape)\n",
    "print(y.shape)"
   ]
  },
  {
   "cell_type": "code",
   "execution_count": 5,
   "metadata": {},
   "outputs": [
    {
     "data": {
      "text/plain": [
       "['setosa', 'versicolor', 'virginica']"
      ]
     },
     "execution_count": 5,
     "metadata": {},
     "output_type": "execute_result"
    }
   ],
   "source": [
    "list(iris.target_names)"
   ]
  },
  {
   "cell_type": "code",
   "execution_count": 6,
   "metadata": {},
   "outputs": [],
   "source": [
    "X_train,X_test, y_train, y_test=train_test_split(X,y,random_state=1)"
   ]
  },
  {
   "cell_type": "code",
   "execution_count": 7,
   "metadata": {},
   "outputs": [
    {
     "name": "stdout",
     "output_type": "stream",
     "text": [
      "(112, 2)\n",
      "(112,)\n",
      "(38, 2)\n",
      "(38,)\n"
     ]
    }
   ],
   "source": [
    "print(X_train.shape)\n",
    "print(y_train.shape)\n",
    "print(X_test.shape)\n",
    "print(y_test.shape)"
   ]
  },
  {
   "cell_type": "code",
   "execution_count": 8,
   "metadata": {},
   "outputs": [],
   "source": [
    "model1 = DecisionTreeClassifier(max_depth=4)\n",
    "model2 = KNeighborsClassifier(n_neighbors=7)\n",
    "model3 = SVC(kernel='rbf',probability=True)\n"
   ]
  },
  {
   "cell_type": "code",
   "execution_count": 9,
   "metadata": {},
   "outputs": [
    {
     "data": {
      "text/plain": [
       "SVC(probability=True)"
      ]
     },
     "execution_count": 9,
     "metadata": {},
     "output_type": "execute_result"
    }
   ],
   "source": [
    "model1.fit(X_train,y_train)\n",
    "model2.fit(X_train,y_train)\n",
    "model3.fit(X_train,y_train)"
   ]
  },
  {
   "cell_type": "code",
   "execution_count": 10,
   "metadata": {},
   "outputs": [
    {
     "data": {
      "text/plain": [
       "0.9736842105263158"
      ]
     },
     "execution_count": 10,
     "metadata": {},
     "output_type": "execute_result"
    }
   ],
   "source": [
    "Score1 = model1.score(X_test,y_test)\n",
    "Score1"
   ]
  },
  {
   "cell_type": "code",
   "execution_count": 11,
   "metadata": {},
   "outputs": [
    {
     "data": {
      "text/plain": [
       "0.9736842105263158"
      ]
     },
     "execution_count": 11,
     "metadata": {},
     "output_type": "execute_result"
    }
   ],
   "source": [
    "Score2 = model2.score(X_test,y_test)\n",
    "Score2"
   ]
  },
  {
   "cell_type": "code",
   "execution_count": 12,
   "metadata": {},
   "outputs": [
    {
     "data": {
      "text/plain": [
       "0.9736842105263158"
      ]
     },
     "execution_count": 12,
     "metadata": {},
     "output_type": "execute_result"
    }
   ],
   "source": [
    "Score3 = model3.score(X_test,y_test)\n",
    "Score3"
   ]
  },
  {
   "cell_type": "code",
   "execution_count": 13,
   "metadata": {},
   "outputs": [],
   "source": [
    "pred1 = model1.predict(X_test)\n",
    "pred2 = model2.predict(X_test)\n",
    "pred3 = model3.predict(X_test)"
   ]
  },
  {
   "cell_type": "code",
   "execution_count": 14,
   "metadata": {},
   "outputs": [
    {
     "data": {
      "text/plain": [
       "array([0., 1., 1., 0., 2., 1., 2., 0., 0., 2., 1., 0., 2., 1., 1., 0., 1.,\n",
       "       1., 0., 0., 1., 1., 2., 0., 2., 1., 0., 0., 1., 2., 1., 2., 1., 2.,\n",
       "       2., 0., 1., 0.])"
      ]
     },
     "execution_count": 14,
     "metadata": {},
     "output_type": "execute_result"
    }
   ],
   "source": [
    "final_pred = np.array([])\n",
    "for i in range(0,len(X_test)):\n",
    "    final_pred = np.append(final_pred,stat.mode([pred1[i],\n",
    "                                                pred2[i],\n",
    "                                                pred3[i]]))\n",
    "final_pred    "
   ]
  },
  {
   "cell_type": "code",
   "execution_count": 15,
   "metadata": {},
   "outputs": [
    {
     "name": "stdout",
     "output_type": "stream",
     "text": [
      "Accuracy: 37 / 38 *100= 97.368 %\n"
     ]
    }
   ],
   "source": [
    "total = np.sum(y_test==final_pred)\n",
    "print(\"Accuracy:\",total,\"/\",len(final_pred),\"*100=\",\"{0:.3f}\".format(total/len(final_pred)*100),\"%\")"
   ]
  },
  {
   "cell_type": "code",
   "execution_count": 16,
   "metadata": {},
   "outputs": [],
   "source": [
    "spred1 = model1.predict_proba(X_test)\n",
    "spred2 = model2.predict_proba(X_test)\n",
    "spred3 = model3.predict_proba(X_test)"
   ]
  },
  {
   "cell_type": "code",
   "execution_count": 17,
   "metadata": {},
   "outputs": [
    {
     "data": {
      "text/plain": [
       "array([[0.98863757, 0.00571823, 0.0056442 ],\n",
       "       [0.05728136, 0.93293762, 0.00978103],\n",
       "       [0.00529285, 0.98503255, 0.0096746 ],\n",
       "       [0.99047857, 0.00535738, 0.00416405],\n",
       "       [0.00816661, 0.01435817, 0.97747522],\n",
       "       [0.00430102, 0.75712364, 0.23857535],\n",
       "       [0.00653685, 0.26067067, 0.73279248],\n",
       "       [0.97463763, 0.02022143, 0.00514095],\n",
       "       [0.98380224, 0.01148598, 0.00471178],\n",
       "       [0.00404863, 0.00657775, 0.98937362],\n",
       "       [0.00289818, 0.97584239, 0.02125943],\n",
       "       [0.98360789, 0.01181454, 0.00457758],\n",
       "       [0.00437585, 0.00535694, 0.99026722],\n",
       "       [0.00413443, 0.97089705, 0.02496852],\n",
       "       [0.00324469, 0.89585973, 0.10089559],\n",
       "       [0.98524509, 0.00883163, 0.00592327],\n",
       "       [0.00369723, 0.99163974, 0.00466303],\n",
       "       [0.00346016, 0.84286706, 0.15367278],\n",
       "       [0.98833732, 0.00748929, 0.0041734 ],\n",
       "       [0.99090563, 0.00497057, 0.0041238 ],\n",
       "       [0.00343867, 0.91939112, 0.07717021],\n",
       "       [0.00374083, 0.7622502 , 0.23400896],\n",
       "       [0.00573675, 0.27817912, 0.71608413],\n",
       "       [0.9903914 , 0.00562109, 0.00398751],\n",
       "       [0.00458583, 0.00523489, 0.99017928],\n",
       "       [0.0031627 , 0.98714084, 0.00969646],\n",
       "       [0.98930626, 0.00636957, 0.00432417],\n",
       "       [0.98841051, 0.00764173, 0.00394776],\n",
       "       [0.0039578 , 0.72490061, 0.27114159],\n",
       "       [0.00425981, 0.12048409, 0.87525611],\n",
       "       [0.00378836, 0.82270469, 0.17350695],\n",
       "       [0.00711666, 0.01451334, 0.97837   ],\n",
       "       [0.00401545, 0.99130201, 0.00468254],\n",
       "       [0.00332362, 0.00301688, 0.99365951],\n",
       "       [0.00333729, 0.11905789, 0.87760482],\n",
       "       [0.98852113, 0.00744297, 0.0040359 ],\n",
       "       [0.00340996, 0.98727783, 0.00931221],\n",
       "       [0.98986375, 0.00622581, 0.00391044]])"
      ]
     },
     "execution_count": 17,
     "metadata": {},
     "output_type": "execute_result"
    }
   ],
   "source": [
    "finalpred= (spred1+spred2+spred3)/3\n",
    "finalpred"
   ]
  },
  {
   "cell_type": "code",
   "execution_count": 18,
   "metadata": {},
   "outputs": [
    {
     "data": {
      "text/plain": [
       "array([0, 1, 1, 0, 2, 1, 2, 0, 0, 2, 1, 0, 2, 1, 1, 0, 1, 1, 0, 0, 1, 1,\n",
       "       2, 0, 2, 1, 0, 0, 1, 2, 1, 2, 1, 2, 2, 0, 1, 0], dtype=int64)"
      ]
     },
     "execution_count": 18,
     "metadata": {},
     "output_type": "execute_result"
    }
   ],
   "source": [
    "final_classes = finalpred.argmax(axis=-1)\n",
    "final_classes"
   ]
  },
  {
   "cell_type": "code",
   "execution_count": 19,
   "metadata": {},
   "outputs": [
    {
     "name": "stdout",
     "output_type": "stream",
     "text": [
      "Accuracy: 37 / 38 *100= 97.368 %\n"
     ]
    }
   ],
   "source": [
    "total = np.sum([y_test[i] == final_classes[i] for i in range(len(final_classes))])\n",
    "print(\"Accuracy:\", total,\"/\",len(final_classes),\"*100=\",\"{0:.3f}\".format(total/len(final_classes)*100),\"%\")"
   ]
  },
  {
   "cell_type": "code",
   "execution_count": 20,
   "metadata": {},
   "outputs": [
    {
     "data": {
      "text/plain": [
       "VotingClassifier(estimators=[('dt', DecisionTreeClassifier(max_depth=4)),\n",
       "                             ('knn', KNeighborsClassifier(n_neighbors=7)),\n",
       "                             ('SVC', SVC(probability=True))],\n",
       "                 voting='soft')"
      ]
     },
     "execution_count": 20,
     "metadata": {},
     "output_type": "execute_result"
    }
   ],
   "source": [
    "emodel = VotingClassifier(estimators=[('dt',model1),('knn',model2),\n",
    "                                     ('SVC',model3)],\n",
    "                         voting= 'soft')\n",
    "emodel.fit(X_train,y_train)"
   ]
  },
  {
   "cell_type": "code",
   "execution_count": 21,
   "metadata": {},
   "outputs": [
    {
     "name": "stdout",
     "output_type": "stream",
     "text": [
      "0.9736842105263158\n"
     ]
    }
   ],
   "source": [
    "escore = emodel.score(X_test,y_test)\n",
    "print(escore)"
   ]
  },
  {
   "cell_type": "code",
   "execution_count": 22,
   "metadata": {},
   "outputs": [
    {
     "data": {
      "text/plain": [
       "array([0, 1, 2])"
      ]
     },
     "execution_count": 22,
     "metadata": {},
     "output_type": "execute_result"
    }
   ],
   "source": [
    "emodel.classes_"
   ]
  },
  {
   "cell_type": "code",
   "execution_count": null,
   "metadata": {},
   "outputs": [],
   "source": []
  }
 ],
 "metadata": {
  "kernelspec": {
   "display_name": "Python 3",
   "language": "python",
   "name": "python3"
  },
  "language_info": {
   "codemirror_mode": {
    "name": "ipython",
    "version": 3
   },
   "file_extension": ".py",
   "mimetype": "text/x-python",
   "name": "python",
   "nbconvert_exporter": "python",
   "pygments_lexer": "ipython3",
   "version": "3.6.8"
  }
 },
 "nbformat": 4,
 "nbformat_minor": 4
}
