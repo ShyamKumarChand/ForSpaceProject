{
 "cells": [
  {
   "cell_type": "code",
   "execution_count": 1,
   "metadata": {},
   "outputs": [],
   "source": [
    "import numpy as np\n",
    "import pandas as pd\n",
    "import matplotlib.pyplot as plt\n",
    "import seaborn as sns\n",
    "import pandas_profiling"
   ]
  },
  {
   "cell_type": "code",
   "execution_count": 2,
   "metadata": {},
   "outputs": [],
   "source": [
    "URL = 'https://raw.githubusercontent.com/reddyprasade/Machine-Learning-Problems-DataSets/master/Classification/Banknote.csv'"
   ]
  },
  {
   "cell_type": "code",
   "execution_count": 3,
   "metadata": {},
   "outputs": [],
   "source": [
    "Data = pd.read_csv(URL)"
   ]
  },
  {
   "cell_type": "code",
   "execution_count": 4,
   "metadata": {},
   "outputs": [
    {
     "data": {
      "text/html": [
       "<div>\n",
       "<style scoped>\n",
       "    .dataframe tbody tr th:only-of-type {\n",
       "        vertical-align: middle;\n",
       "    }\n",
       "\n",
       "    .dataframe tbody tr th {\n",
       "        vertical-align: top;\n",
       "    }\n",
       "\n",
       "    .dataframe thead th {\n",
       "        text-align: right;\n",
       "    }\n",
       "</style>\n",
       "<table border=\"1\" class=\"dataframe\">\n",
       "  <thead>\n",
       "    <tr style=\"text-align: right;\">\n",
       "      <th></th>\n",
       "      <th>Unnamed: 0</th>\n",
       "      <th>1. variance of Wavelet Transformed image</th>\n",
       "      <th>skewness of Wavelet Transformed image</th>\n",
       "      <th>curtosis of Wavelet Transformed image</th>\n",
       "      <th>entropy of image</th>\n",
       "      <th>class</th>\n",
       "    </tr>\n",
       "  </thead>\n",
       "  <tbody>\n",
       "    <tr>\n",
       "      <th>0</th>\n",
       "      <td>0</td>\n",
       "      <td>3.62160</td>\n",
       "      <td>8.66610</td>\n",
       "      <td>-2.8073</td>\n",
       "      <td>-0.44699</td>\n",
       "      <td>0</td>\n",
       "    </tr>\n",
       "    <tr>\n",
       "      <th>1</th>\n",
       "      <td>1</td>\n",
       "      <td>4.54590</td>\n",
       "      <td>8.16740</td>\n",
       "      <td>-2.4586</td>\n",
       "      <td>-1.46210</td>\n",
       "      <td>0</td>\n",
       "    </tr>\n",
       "    <tr>\n",
       "      <th>2</th>\n",
       "      <td>2</td>\n",
       "      <td>3.86600</td>\n",
       "      <td>-2.63830</td>\n",
       "      <td>1.9242</td>\n",
       "      <td>0.10645</td>\n",
       "      <td>0</td>\n",
       "    </tr>\n",
       "    <tr>\n",
       "      <th>3</th>\n",
       "      <td>3</td>\n",
       "      <td>3.45660</td>\n",
       "      <td>9.52280</td>\n",
       "      <td>-4.0112</td>\n",
       "      <td>-3.59440</td>\n",
       "      <td>0</td>\n",
       "    </tr>\n",
       "    <tr>\n",
       "      <th>4</th>\n",
       "      <td>4</td>\n",
       "      <td>0.32924</td>\n",
       "      <td>-4.45520</td>\n",
       "      <td>4.5718</td>\n",
       "      <td>-0.98880</td>\n",
       "      <td>0</td>\n",
       "    </tr>\n",
       "    <tr>\n",
       "      <th>...</th>\n",
       "      <td>...</td>\n",
       "      <td>...</td>\n",
       "      <td>...</td>\n",
       "      <td>...</td>\n",
       "      <td>...</td>\n",
       "      <td>...</td>\n",
       "    </tr>\n",
       "    <tr>\n",
       "      <th>1367</th>\n",
       "      <td>1367</td>\n",
       "      <td>0.40614</td>\n",
       "      <td>1.34920</td>\n",
       "      <td>-1.4501</td>\n",
       "      <td>-0.55949</td>\n",
       "      <td>1</td>\n",
       "    </tr>\n",
       "    <tr>\n",
       "      <th>1368</th>\n",
       "      <td>1368</td>\n",
       "      <td>-1.38870</td>\n",
       "      <td>-4.87730</td>\n",
       "      <td>6.4774</td>\n",
       "      <td>0.34179</td>\n",
       "      <td>1</td>\n",
       "    </tr>\n",
       "    <tr>\n",
       "      <th>1369</th>\n",
       "      <td>1369</td>\n",
       "      <td>-3.75030</td>\n",
       "      <td>-13.45860</td>\n",
       "      <td>17.5932</td>\n",
       "      <td>-2.77710</td>\n",
       "      <td>1</td>\n",
       "    </tr>\n",
       "    <tr>\n",
       "      <th>1370</th>\n",
       "      <td>1370</td>\n",
       "      <td>-3.56370</td>\n",
       "      <td>-8.38270</td>\n",
       "      <td>12.3930</td>\n",
       "      <td>-1.28230</td>\n",
       "      <td>1</td>\n",
       "    </tr>\n",
       "    <tr>\n",
       "      <th>1371</th>\n",
       "      <td>1371</td>\n",
       "      <td>-2.54190</td>\n",
       "      <td>-0.65804</td>\n",
       "      <td>2.6842</td>\n",
       "      <td>1.19520</td>\n",
       "      <td>1</td>\n",
       "    </tr>\n",
       "  </tbody>\n",
       "</table>\n",
       "<p>1372 rows × 6 columns</p>\n",
       "</div>"
      ],
      "text/plain": [
       "      Unnamed: 0  1. variance of Wavelet Transformed image  \\\n",
       "0              0                                   3.62160   \n",
       "1              1                                   4.54590   \n",
       "2              2                                   3.86600   \n",
       "3              3                                   3.45660   \n",
       "4              4                                   0.32924   \n",
       "...          ...                                       ...   \n",
       "1367        1367                                   0.40614   \n",
       "1368        1368                                  -1.38870   \n",
       "1369        1369                                  -3.75030   \n",
       "1370        1370                                  -3.56370   \n",
       "1371        1371                                  -2.54190   \n",
       "\n",
       "      skewness of Wavelet Transformed image  \\\n",
       "0                                   8.66610   \n",
       "1                                   8.16740   \n",
       "2                                  -2.63830   \n",
       "3                                   9.52280   \n",
       "4                                  -4.45520   \n",
       "...                                     ...   \n",
       "1367                                1.34920   \n",
       "1368                               -4.87730   \n",
       "1369                              -13.45860   \n",
       "1370                               -8.38270   \n",
       "1371                               -0.65804   \n",
       "\n",
       "      curtosis of Wavelet Transformed image  entropy of image  class  \n",
       "0                                   -2.8073          -0.44699      0  \n",
       "1                                   -2.4586          -1.46210      0  \n",
       "2                                    1.9242           0.10645      0  \n",
       "3                                   -4.0112          -3.59440      0  \n",
       "4                                    4.5718          -0.98880      0  \n",
       "...                                     ...               ...    ...  \n",
       "1367                                -1.4501          -0.55949      1  \n",
       "1368                                 6.4774           0.34179      1  \n",
       "1369                                17.5932          -2.77710      1  \n",
       "1370                                12.3930          -1.28230      1  \n",
       "1371                                 2.6842           1.19520      1  \n",
       "\n",
       "[1372 rows x 6 columns]"
      ]
     },
     "execution_count": 4,
     "metadata": {},
     "output_type": "execute_result"
    }
   ],
   "source": [
    "Data"
   ]
  },
  {
   "cell_type": "code",
   "execution_count": 5,
   "metadata": {},
   "outputs": [
    {
     "name": "stdout",
     "output_type": "stream",
     "text": [
      "<class 'pandas.core.frame.DataFrame'>\n",
      "RangeIndex: 1372 entries, 0 to 1371\n",
      "Data columns (total 6 columns):\n",
      " #   Column                                    Non-Null Count  Dtype  \n",
      "---  ------                                    --------------  -----  \n",
      " 0   Unnamed: 0                                1372 non-null   int64  \n",
      " 1   1. variance of Wavelet Transformed image  1372 non-null   float64\n",
      " 2   skewness of Wavelet Transformed image     1372 non-null   float64\n",
      " 3   curtosis of Wavelet Transformed image     1372 non-null   float64\n",
      " 4   entropy of image                          1372 non-null   float64\n",
      " 5   class                                     1372 non-null   int64  \n",
      "dtypes: float64(4), int64(2)\n",
      "memory usage: 64.4 KB\n"
     ]
    }
   ],
   "source": [
    "Data.info()"
   ]
  },
  {
   "cell_type": "code",
   "execution_count": 6,
   "metadata": {},
   "outputs": [],
   "source": [
    "Data.drop(['Unnamed: 0'],axis =1, inplace =True)"
   ]
  },
  {
   "cell_type": "code",
   "execution_count": 7,
   "metadata": {},
   "outputs": [
    {
     "data": {
      "text/html": [
       "<div>\n",
       "<style scoped>\n",
       "    .dataframe tbody tr th:only-of-type {\n",
       "        vertical-align: middle;\n",
       "    }\n",
       "\n",
       "    .dataframe tbody tr th {\n",
       "        vertical-align: top;\n",
       "    }\n",
       "\n",
       "    .dataframe thead th {\n",
       "        text-align: right;\n",
       "    }\n",
       "</style>\n",
       "<table border=\"1\" class=\"dataframe\">\n",
       "  <thead>\n",
       "    <tr style=\"text-align: right;\">\n",
       "      <th></th>\n",
       "      <th>1. variance of Wavelet Transformed image</th>\n",
       "      <th>skewness of Wavelet Transformed image</th>\n",
       "      <th>curtosis of Wavelet Transformed image</th>\n",
       "      <th>entropy of image</th>\n",
       "      <th>class</th>\n",
       "    </tr>\n",
       "  </thead>\n",
       "  <tbody>\n",
       "    <tr>\n",
       "      <th>0</th>\n",
       "      <td>3.62160</td>\n",
       "      <td>8.6661</td>\n",
       "      <td>-2.8073</td>\n",
       "      <td>-0.44699</td>\n",
       "      <td>0</td>\n",
       "    </tr>\n",
       "    <tr>\n",
       "      <th>1</th>\n",
       "      <td>4.54590</td>\n",
       "      <td>8.1674</td>\n",
       "      <td>-2.4586</td>\n",
       "      <td>-1.46210</td>\n",
       "      <td>0</td>\n",
       "    </tr>\n",
       "    <tr>\n",
       "      <th>2</th>\n",
       "      <td>3.86600</td>\n",
       "      <td>-2.6383</td>\n",
       "      <td>1.9242</td>\n",
       "      <td>0.10645</td>\n",
       "      <td>0</td>\n",
       "    </tr>\n",
       "    <tr>\n",
       "      <th>3</th>\n",
       "      <td>3.45660</td>\n",
       "      <td>9.5228</td>\n",
       "      <td>-4.0112</td>\n",
       "      <td>-3.59440</td>\n",
       "      <td>0</td>\n",
       "    </tr>\n",
       "    <tr>\n",
       "      <th>4</th>\n",
       "      <td>0.32924</td>\n",
       "      <td>-4.4552</td>\n",
       "      <td>4.5718</td>\n",
       "      <td>-0.98880</td>\n",
       "      <td>0</td>\n",
       "    </tr>\n",
       "  </tbody>\n",
       "</table>\n",
       "</div>"
      ],
      "text/plain": [
       "   1. variance of Wavelet Transformed image  \\\n",
       "0                                   3.62160   \n",
       "1                                   4.54590   \n",
       "2                                   3.86600   \n",
       "3                                   3.45660   \n",
       "4                                   0.32924   \n",
       "\n",
       "   skewness of Wavelet Transformed image  \\\n",
       "0                                 8.6661   \n",
       "1                                 8.1674   \n",
       "2                                -2.6383   \n",
       "3                                 9.5228   \n",
       "4                                -4.4552   \n",
       "\n",
       "   curtosis of Wavelet Transformed image  entropy of image  class  \n",
       "0                                -2.8073          -0.44699      0  \n",
       "1                                -2.4586          -1.46210      0  \n",
       "2                                 1.9242           0.10645      0  \n",
       "3                                -4.0112          -3.59440      0  \n",
       "4                                 4.5718          -0.98880      0  "
      ]
     },
     "execution_count": 7,
     "metadata": {},
     "output_type": "execute_result"
    }
   ],
   "source": [
    "Data.head()"
   ]
  },
  {
   "cell_type": "code",
   "execution_count": 8,
   "metadata": {},
   "outputs": [
    {
     "data": {
      "text/html": [
       "<div>\n",
       "<style scoped>\n",
       "    .dataframe tbody tr th:only-of-type {\n",
       "        vertical-align: middle;\n",
       "    }\n",
       "\n",
       "    .dataframe tbody tr th {\n",
       "        vertical-align: top;\n",
       "    }\n",
       "\n",
       "    .dataframe thead th {\n",
       "        text-align: right;\n",
       "    }\n",
       "</style>\n",
       "<table border=\"1\" class=\"dataframe\">\n",
       "  <thead>\n",
       "    <tr style=\"text-align: right;\">\n",
       "      <th></th>\n",
       "      <th>1. variance of Wavelet Transformed image</th>\n",
       "      <th>skewness of Wavelet Transformed image</th>\n",
       "      <th>curtosis of Wavelet Transformed image</th>\n",
       "      <th>entropy of image</th>\n",
       "      <th>class</th>\n",
       "    </tr>\n",
       "  </thead>\n",
       "  <tbody>\n",
       "    <tr>\n",
       "      <th>1367</th>\n",
       "      <td>0.40614</td>\n",
       "      <td>1.34920</td>\n",
       "      <td>-1.4501</td>\n",
       "      <td>-0.55949</td>\n",
       "      <td>1</td>\n",
       "    </tr>\n",
       "    <tr>\n",
       "      <th>1368</th>\n",
       "      <td>-1.38870</td>\n",
       "      <td>-4.87730</td>\n",
       "      <td>6.4774</td>\n",
       "      <td>0.34179</td>\n",
       "      <td>1</td>\n",
       "    </tr>\n",
       "    <tr>\n",
       "      <th>1369</th>\n",
       "      <td>-3.75030</td>\n",
       "      <td>-13.45860</td>\n",
       "      <td>17.5932</td>\n",
       "      <td>-2.77710</td>\n",
       "      <td>1</td>\n",
       "    </tr>\n",
       "    <tr>\n",
       "      <th>1370</th>\n",
       "      <td>-3.56370</td>\n",
       "      <td>-8.38270</td>\n",
       "      <td>12.3930</td>\n",
       "      <td>-1.28230</td>\n",
       "      <td>1</td>\n",
       "    </tr>\n",
       "    <tr>\n",
       "      <th>1371</th>\n",
       "      <td>-2.54190</td>\n",
       "      <td>-0.65804</td>\n",
       "      <td>2.6842</td>\n",
       "      <td>1.19520</td>\n",
       "      <td>1</td>\n",
       "    </tr>\n",
       "  </tbody>\n",
       "</table>\n",
       "</div>"
      ],
      "text/plain": [
       "      1. variance of Wavelet Transformed image  \\\n",
       "1367                                   0.40614   \n",
       "1368                                  -1.38870   \n",
       "1369                                  -3.75030   \n",
       "1370                                  -3.56370   \n",
       "1371                                  -2.54190   \n",
       "\n",
       "      skewness of Wavelet Transformed image  \\\n",
       "1367                                1.34920   \n",
       "1368                               -4.87730   \n",
       "1369                              -13.45860   \n",
       "1370                               -8.38270   \n",
       "1371                               -0.65804   \n",
       "\n",
       "      curtosis of Wavelet Transformed image  entropy of image  class  \n",
       "1367                                -1.4501          -0.55949      1  \n",
       "1368                                 6.4774           0.34179      1  \n",
       "1369                                17.5932          -2.77710      1  \n",
       "1370                                12.3930          -1.28230      1  \n",
       "1371                                 2.6842           1.19520      1  "
      ]
     },
     "execution_count": 8,
     "metadata": {},
     "output_type": "execute_result"
    }
   ],
   "source": [
    "Data.tail()"
   ]
  },
  {
   "cell_type": "code",
   "execution_count": 9,
   "metadata": {},
   "outputs": [
    {
     "data": {
      "text/plain": [
       "Index(['1. variance of Wavelet Transformed image',\n",
       "       'skewness of Wavelet Transformed image',\n",
       "       'curtosis of Wavelet Transformed image', 'entropy of image', 'class'],\n",
       "      dtype='object')"
      ]
     },
     "execution_count": 9,
     "metadata": {},
     "output_type": "execute_result"
    }
   ],
   "source": [
    "Data.columns"
   ]
  },
  {
   "cell_type": "code",
   "execution_count": 10,
   "metadata": {},
   "outputs": [],
   "source": [
    "from sklearn import preprocessing\n",
    "\n",
    "#creating labelEncoder\n",
    "le = preprocessing.LabelEncoder()"
   ]
  },
  {
   "cell_type": "code",
   "execution_count": 11,
   "metadata": {},
   "outputs": [],
   "source": [
    "Data['1. variance of Wavelet Transformed image']=le.fit_transform(Data['1. variance of Wavelet Transformed image'])"
   ]
  },
  {
   "cell_type": "code",
   "execution_count": 12,
   "metadata": {},
   "outputs": [],
   "source": [
    "Data['skewness of Wavelet Transformed image']=le.fit_transform(Data['skewness of Wavelet Transformed image'])"
   ]
  },
  {
   "cell_type": "code",
   "execution_count": 13,
   "metadata": {},
   "outputs": [],
   "source": [
    "Data['curtosis of Wavelet Transformed image']=le.fit_transform(Data['curtosis of Wavelet Transformed image'])"
   ]
  },
  {
   "cell_type": "code",
   "execution_count": 14,
   "metadata": {},
   "outputs": [],
   "source": [
    "Data['entropy of image']=le.fit_transform(Data['entropy of image'])"
   ]
  },
  {
   "cell_type": "code",
   "execution_count": 15,
   "metadata": {},
   "outputs": [],
   "source": [
    "Data['class']=le.fit_transform(Data['class'])"
   ]
  },
  {
   "cell_type": "code",
   "execution_count": 16,
   "metadata": {},
   "outputs": [
    {
     "data": {
      "text/html": [
       "<div>\n",
       "<style scoped>\n",
       "    .dataframe tbody tr th:only-of-type {\n",
       "        vertical-align: middle;\n",
       "    }\n",
       "\n",
       "    .dataframe tbody tr th {\n",
       "        vertical-align: top;\n",
       "    }\n",
       "\n",
       "    .dataframe thead th {\n",
       "        text-align: right;\n",
       "    }\n",
       "</style>\n",
       "<table border=\"1\" class=\"dataframe\">\n",
       "  <thead>\n",
       "    <tr style=\"text-align: right;\">\n",
       "      <th></th>\n",
       "      <th>1. variance of Wavelet Transformed image</th>\n",
       "      <th>skewness of Wavelet Transformed image</th>\n",
       "      <th>curtosis of Wavelet Transformed image</th>\n",
       "      <th>entropy of image</th>\n",
       "      <th>class</th>\n",
       "    </tr>\n",
       "  </thead>\n",
       "  <tbody>\n",
       "    <tr>\n",
       "      <th>0</th>\n",
       "      <td>1106</td>\n",
       "      <td>1068</td>\n",
       "      <td>198</td>\n",
       "      <td>652</td>\n",
       "      <td>0</td>\n",
       "    </tr>\n",
       "    <tr>\n",
       "      <th>1</th>\n",
       "      <td>1249</td>\n",
       "      <td>1042</td>\n",
       "      <td>220</td>\n",
       "      <td>424</td>\n",
       "      <td>0</td>\n",
       "    </tr>\n",
       "    <tr>\n",
       "      <th>2</th>\n",
       "      <td>1146</td>\n",
       "      <td>285</td>\n",
       "      <td>800</td>\n",
       "      <td>803</td>\n",
       "      <td>0</td>\n",
       "    </tr>\n",
       "    <tr>\n",
       "      <th>3</th>\n",
       "      <td>1069</td>\n",
       "      <td>1134</td>\n",
       "      <td>80</td>\n",
       "      <td>195</td>\n",
       "      <td>0</td>\n",
       "    </tr>\n",
       "    <tr>\n",
       "      <th>4</th>\n",
       "      <td>645</td>\n",
       "      <td>214</td>\n",
       "      <td>1010</td>\n",
       "      <td>517</td>\n",
       "      <td>0</td>\n",
       "    </tr>\n",
       "  </tbody>\n",
       "</table>\n",
       "</div>"
      ],
      "text/plain": [
       "   1. variance of Wavelet Transformed image  \\\n",
       "0                                      1106   \n",
       "1                                      1249   \n",
       "2                                      1146   \n",
       "3                                      1069   \n",
       "4                                       645   \n",
       "\n",
       "   skewness of Wavelet Transformed image  \\\n",
       "0                                   1068   \n",
       "1                                   1042   \n",
       "2                                    285   \n",
       "3                                   1134   \n",
       "4                                    214   \n",
       "\n",
       "   curtosis of Wavelet Transformed image  entropy of image  class  \n",
       "0                                    198               652      0  \n",
       "1                                    220               424      0  \n",
       "2                                    800               803      0  \n",
       "3                                     80               195      0  \n",
       "4                                   1010               517      0  "
      ]
     },
     "execution_count": 16,
     "metadata": {},
     "output_type": "execute_result"
    }
   ],
   "source": [
    "Data.head()"
   ]
  },
  {
   "cell_type": "code",
   "execution_count": 18,
   "metadata": {},
   "outputs": [
    {
     "data": {
      "text/html": [
       "<div>\n",
       "<style scoped>\n",
       "    .dataframe tbody tr th:only-of-type {\n",
       "        vertical-align: middle;\n",
       "    }\n",
       "\n",
       "    .dataframe tbody tr th {\n",
       "        vertical-align: top;\n",
       "    }\n",
       "\n",
       "    .dataframe thead th {\n",
       "        text-align: right;\n",
       "    }\n",
       "</style>\n",
       "<table border=\"1\" class=\"dataframe\">\n",
       "  <thead>\n",
       "    <tr style=\"text-align: right;\">\n",
       "      <th></th>\n",
       "      <th>1. variance of Wavelet Transformed image</th>\n",
       "      <th>skewness of Wavelet Transformed image</th>\n",
       "      <th>curtosis of Wavelet Transformed image</th>\n",
       "      <th>entropy of image</th>\n",
       "    </tr>\n",
       "  </thead>\n",
       "  <tbody>\n",
       "    <tr>\n",
       "      <th>0</th>\n",
       "      <td>1106</td>\n",
       "      <td>1068</td>\n",
       "      <td>198</td>\n",
       "      <td>652</td>\n",
       "    </tr>\n",
       "    <tr>\n",
       "      <th>1</th>\n",
       "      <td>1249</td>\n",
       "      <td>1042</td>\n",
       "      <td>220</td>\n",
       "      <td>424</td>\n",
       "    </tr>\n",
       "    <tr>\n",
       "      <th>2</th>\n",
       "      <td>1146</td>\n",
       "      <td>285</td>\n",
       "      <td>800</td>\n",
       "      <td>803</td>\n",
       "    </tr>\n",
       "    <tr>\n",
       "      <th>3</th>\n",
       "      <td>1069</td>\n",
       "      <td>1134</td>\n",
       "      <td>80</td>\n",
       "      <td>195</td>\n",
       "    </tr>\n",
       "    <tr>\n",
       "      <th>4</th>\n",
       "      <td>645</td>\n",
       "      <td>214</td>\n",
       "      <td>1010</td>\n",
       "      <td>517</td>\n",
       "    </tr>\n",
       "  </tbody>\n",
       "</table>\n",
       "</div>"
      ],
      "text/plain": [
       "   1. variance of Wavelet Transformed image  \\\n",
       "0                                      1106   \n",
       "1                                      1249   \n",
       "2                                      1146   \n",
       "3                                      1069   \n",
       "4                                       645   \n",
       "\n",
       "   skewness of Wavelet Transformed image  \\\n",
       "0                                   1068   \n",
       "1                                   1042   \n",
       "2                                    285   \n",
       "3                                   1134   \n",
       "4                                    214   \n",
       "\n",
       "   curtosis of Wavelet Transformed image  entropy of image  \n",
       "0                                    198               652  \n",
       "1                                    220               424  \n",
       "2                                    800               803  \n",
       "3                                     80               195  \n",
       "4                                   1010               517  "
      ]
     },
     "execution_count": 18,
     "metadata": {},
     "output_type": "execute_result"
    }
   ],
   "source": [
    "Feature = Data.drop(['class'],axis=1)\n",
    "Feature.head()"
   ]
  },
  {
   "cell_type": "code",
   "execution_count": 19,
   "metadata": {},
   "outputs": [
    {
     "data": {
      "text/plain": [
       "0    0\n",
       "1    0\n",
       "2    0\n",
       "3    0\n",
       "4    0\n",
       "Name: class, dtype: int64"
      ]
     },
     "execution_count": 19,
     "metadata": {},
     "output_type": "execute_result"
    }
   ],
   "source": [
    "Label = Data['class']\n",
    "Label[0:5]"
   ]
  },
  {
   "cell_type": "code",
   "execution_count": 20,
   "metadata": {},
   "outputs": [
    {
     "data": {
      "text/plain": [
       "DecisionTreeClassifier()"
      ]
     },
     "execution_count": 20,
     "metadata": {},
     "output_type": "execute_result"
    }
   ],
   "source": [
    "from sklearn import tree\n",
    "clf = tree.DecisionTreeClassifier()\n",
    "clf = clf.fit(Feature, Label)\n",
    "clf"
   ]
  },
  {
   "cell_type": "code",
   "execution_count": 21,
   "metadata": {},
   "outputs": [
    {
     "data": {
      "text/plain": [
       "array([1], dtype=int64)"
      ]
     },
     "execution_count": 21,
     "metadata": {},
     "output_type": "execute_result"
    }
   ],
   "source": [
    "clf.predict([[0,1,0,0]]) "
   ]
  },
  {
   "cell_type": "code",
   "execution_count": 22,
   "metadata": {},
   "outputs": [
    {
     "data": {
      "text/plain": [
       "array([0, 1], dtype=int64)"
      ]
     },
     "execution_count": 22,
     "metadata": {},
     "output_type": "execute_result"
    }
   ],
   "source": [
    "clf.classes_"
   ]
  },
  {
   "cell_type": "code",
   "execution_count": 23,
   "metadata": {},
   "outputs": [
    {
     "data": {
      "text/plain": [
       "2"
      ]
     },
     "execution_count": 23,
     "metadata": {},
     "output_type": "execute_result"
    }
   ],
   "source": [
    "clf.n_classes_"
   ]
  },
  {
   "cell_type": "code",
   "execution_count": 24,
   "metadata": {},
   "outputs": [
    {
     "data": {
      "text/plain": [
       "4"
      ]
     },
     "execution_count": 24,
     "metadata": {},
     "output_type": "execute_result"
    }
   ],
   "source": [
    "clf.n_features_"
   ]
  },
  {
   "cell_type": "code",
   "execution_count": 25,
   "metadata": {},
   "outputs": [
    {
     "data": {
      "text/plain": [
       "1.0"
      ]
     },
     "execution_count": 25,
     "metadata": {},
     "output_type": "execute_result"
    }
   ],
   "source": [
    "clf.score(Feature,Label)"
   ]
  },
  {
   "cell_type": "code",
   "execution_count": 26,
   "metadata": {},
   "outputs": [
    {
     "data": {
      "text/plain": [
       "[Text(219.03582089552236, 280.29375000000005, 'X[0] <= 641.5\\ngini = 0.494\\nsamples = 1372\\nvalue = [762, 610]'),\n",
       " Text(143.24776119402983, 242.92125000000001, 'X[1] <= 1001.5\\ngini = 0.306\\nsamples = 657\\nvalue = [124, 533]'),\n",
       " Text(99.94029850746269, 205.54875, 'X[0] <= 537.5\\ngini = 0.131\\nsamples = 552\\nvalue = [39, 513]'),\n",
       " Text(53.30149253731343, 168.17625, 'X[2] <= 1087.5\\ngini = 0.07\\nsamples = 471\\nvalue = [17, 454]'),\n",
       " Text(26.650746268656714, 130.80375, 'X[1] <= 985.5\\ngini = 0.006\\nsamples = 324\\nvalue = [1, 323]'),\n",
       " Text(13.325373134328357, 93.43125, 'gini = 0.0\\nsamples = 320\\nvalue = [0, 320]'),\n",
       " Text(39.97611940298507, 93.43125, 'X[2] <= 577.0\\ngini = 0.375\\nsamples = 4\\nvalue = [1, 3]'),\n",
       " Text(26.650746268656714, 56.05875, 'gini = 0.0\\nsamples = 3\\nvalue = [0, 3]'),\n",
       " Text(53.30149253731343, 56.05875, 'gini = 0.0\\nsamples = 1\\nvalue = [1, 0]'),\n",
       " Text(79.95223880597014, 130.80375, 'X[1] <= 203.5\\ngini = 0.194\\nsamples = 147\\nvalue = [16, 131]'),\n",
       " Text(66.62686567164178, 93.43125, 'gini = 0.0\\nsamples = 130\\nvalue = [0, 130]'),\n",
       " Text(93.2776119402985, 93.43125, 'X[0] <= 280.0\\ngini = 0.111\\nsamples = 17\\nvalue = [16, 1]'),\n",
       " Text(79.95223880597014, 56.05875, 'X[2] <= 1100.0\\ngini = 0.5\\nsamples = 2\\nvalue = [1, 1]'),\n",
       " Text(66.62686567164178, 18.686249999999973, 'gini = 0.0\\nsamples = 1\\nvalue = [0, 1]'),\n",
       " Text(93.2776119402985, 18.686249999999973, 'gini = 0.0\\nsamples = 1\\nvalue = [1, 0]'),\n",
       " Text(106.60298507462686, 56.05875, 'gini = 0.0\\nsamples = 15\\nvalue = [15, 0]'),\n",
       " Text(146.57910447761193, 168.17625, 'X[1] <= 869.5\\ngini = 0.396\\nsamples = 81\\nvalue = [22, 59]'),\n",
       " Text(133.25373134328356, 130.80375, 'X[2] <= 886.5\\ngini = 0.265\\nsamples = 70\\nvalue = [11, 59]'),\n",
       " Text(119.92835820895522, 93.43125, 'gini = 0.0\\nsamples = 58\\nvalue = [0, 58]'),\n",
       " Text(146.57910447761193, 93.43125, 'X[3] <= 1074.0\\ngini = 0.153\\nsamples = 12\\nvalue = [11, 1]'),\n",
       " Text(133.25373134328356, 56.05875, 'gini = 0.0\\nsamples = 11\\nvalue = [11, 0]'),\n",
       " Text(159.90447761194028, 56.05875, 'gini = 0.0\\nsamples = 1\\nvalue = [0, 1]'),\n",
       " Text(159.90447761194028, 130.80375, 'gini = 0.0\\nsamples = 11\\nvalue = [11, 0]'),\n",
       " Text(186.555223880597, 205.54875, 'X[0] <= 46.0\\ngini = 0.308\\nsamples = 105\\nvalue = [85, 20]'),\n",
       " Text(173.22985074626865, 168.17625, 'gini = 0.0\\nsamples = 20\\nvalue = [0, 20]'),\n",
       " Text(199.88059701492537, 168.17625, 'gini = 0.0\\nsamples = 85\\nvalue = [85, 0]'),\n",
       " Text(294.8238805970149, 242.92125000000001, 'X[2] <= 49.5\\ngini = 0.192\\nsamples = 715\\nvalue = [638, 77]'),\n",
       " Text(239.85671641791043, 205.54875, 'X[0] <= 1076.5\\ngini = 0.363\\nsamples = 42\\nvalue = [10, 32]'),\n",
       " Text(226.53134328358206, 168.17625, 'gini = 0.0\\nsamples = 32\\nvalue = [0, 32]'),\n",
       " Text(253.18208955223878, 168.17625, 'gini = 0.0\\nsamples = 10\\nvalue = [10, 0]'),\n",
       " Text(349.79104477611935, 205.54875, 'X[0] <= 834.5\\ngini = 0.125\\nsamples = 673\\nvalue = [628, 45]'),\n",
       " Text(279.8328358208955, 168.17625, 'X[2] <= 247.5\\ngini = 0.352\\nsamples = 184\\nvalue = [142, 42]'),\n",
       " Text(246.5194029850746, 130.80375, 'X[1] <= 896.0\\ngini = 0.198\\nsamples = 27\\nvalue = [3, 24]'),\n",
       " Text(233.19402985074626, 93.43125, 'gini = 0.0\\nsamples = 24\\nvalue = [0, 24]'),\n",
       " Text(259.844776119403, 93.43125, 'gini = 0.0\\nsamples = 3\\nvalue = [3, 0]'),\n",
       " Text(313.1462686567164, 130.80375, 'X[3] <= 798.0\\ngini = 0.203\\nsamples = 157\\nvalue = [139, 18]'),\n",
       " Text(286.49552238805967, 93.43125, 'X[0] <= 658.0\\ngini = 0.017\\nsamples = 120\\nvalue = [119, 1]'),\n",
       " Text(273.1701492537313, 56.05875, 'X[2] <= 345.0\\ngini = 0.111\\nsamples = 17\\nvalue = [16, 1]'),\n",
       " Text(259.844776119403, 18.686249999999973, 'gini = 0.0\\nsamples = 1\\nvalue = [0, 1]'),\n",
       " Text(286.49552238805967, 18.686249999999973, 'gini = 0.0\\nsamples = 16\\nvalue = [16, 0]'),\n",
       " Text(299.820895522388, 56.05875, 'gini = 0.0\\nsamples = 103\\nvalue = [103, 0]'),\n",
       " Text(339.7970149253731, 93.43125, 'X[2] <= 797.0\\ngini = 0.497\\nsamples = 37\\nvalue = [20, 17]'),\n",
       " Text(326.47164179104476, 56.05875, 'X[1] <= 710.5\\ngini = 0.188\\nsamples = 19\\nvalue = [2, 17]'),\n",
       " Text(313.1462686567164, 18.686249999999973, 'gini = 0.0\\nsamples = 17\\nvalue = [0, 17]'),\n",
       " Text(339.7970149253731, 18.686249999999973, 'gini = 0.0\\nsamples = 2\\nvalue = [2, 0]'),\n",
       " Text(353.12238805970145, 56.05875, 'gini = 0.0\\nsamples = 18\\nvalue = [18, 0]'),\n",
       " Text(419.74925373134323, 168.17625, 'X[0] <= 893.5\\ngini = 0.012\\nsamples = 489\\nvalue = [486, 3]'),\n",
       " Text(406.4238805970149, 130.80375, 'X[2] <= 212.0\\ngini = 0.101\\nsamples = 56\\nvalue = [53, 3]'),\n",
       " Text(393.09850746268654, 93.43125, 'X[1] <= 948.0\\ngini = 0.375\\nsamples = 4\\nvalue = [1, 3]'),\n",
       " Text(379.7731343283582, 56.05875, 'gini = 0.0\\nsamples = 3\\nvalue = [0, 3]'),\n",
       " Text(406.4238805970149, 56.05875, 'gini = 0.0\\nsamples = 1\\nvalue = [1, 0]'),\n",
       " Text(419.74925373134323, 93.43125, 'gini = 0.0\\nsamples = 52\\nvalue = [52, 0]'),\n",
       " Text(433.07462686567163, 130.80375, 'gini = 0.0\\nsamples = 433\\nvalue = [433, 0]')]"
      ]
     },
     "execution_count": 26,
     "metadata": {},
     "output_type": "execute_result"
    },
    {
     "data": {
      "image/png": "[encoded data removed]",
      "text/plain": [
       "<Figure size 576x396 with 1 Axes>"
      ]
     },
     "metadata": {},
     "output_type": "display_data"
    }
   ],
   "source": [
    "tree.plot_tree(clf)"
   ]
  },
  {
   "cell_type": "code",
   "execution_count": null,
   "metadata": {},
   "outputs": [],
   "source": []
  }
 ],
 "metadata": {
  "kernelspec": {
   "display_name": "Python 3",
   "language": "python",
   "name": "python3"
  },
  "language_info": {
   "codemirror_mode": {
    "name": "ipython",
    "version": 3
   },
   "file_extension": ".py",
   "mimetype": "text/x-python",
   "name": "python",
   "nbconvert_exporter": "python",
   "pygments_lexer": "ipython3",
   "version": "3.6.8"
  }
 },
 "nbformat": 4,
 "nbformat_minor": 4
}
